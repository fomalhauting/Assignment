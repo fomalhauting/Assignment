{
  "nbformat": 4,
  "nbformat_minor": 0,
  "metadata": {
    "colab": {
      "provenance": [],
      "authorship_tag": "ABX9TyPkRSrdkFQrn8CzPNbnnlch",
      "include_colab_link": true
    },
    "kernelspec": {
      "name": "python3",
      "display_name": "Python 3"
    },
    "language_info": {
      "name": "python"
    }
  },
  "cells": [
    {
      "cell_type": "markdown",
      "metadata": {
        "id": "view-in-github",
        "colab_type": "text"
      },
      "source": [
        "<a href=\"https://colab.research.google.com/github/itsIapetus/Assignment/blob/main/assignment1.ipynb\" target=\"_parent\"><img src=\"https://colab.research.google.com/assets/colab-badge.svg\" alt=\"Open In Colab\"/></a>"
      ]
    },
    {
      "cell_type": "code",
      "source": [
        "!pip install pytesseract"
      ],
      "metadata": {
        "colab": {
          "base_uri": "https://localhost:8080/"
        },
        "id": "lluBwjx47zho",
        "outputId": "f97f063c-fcf2-480f-9e82-60da67b541be"
      },
      "execution_count": null,
      "outputs": [
        {
          "output_type": "stream",
          "name": "stdout",
          "text": [
            "Looking in indexes: https://pypi.org/simple, https://us-python.pkg.dev/colab-wheels/public/simple/\n",
            "Requirement already satisfied: pytesseract in /usr/local/lib/python3.10/dist-packages (0.3.10)\n",
            "Requirement already satisfied: packaging>=21.3 in /usr/local/lib/python3.10/dist-packages (from pytesseract) (23.1)\n",
            "Requirement already satisfied: Pillow>=8.0.0 in /usr/local/lib/python3.10/dist-packages (from pytesseract) (8.4.0)\n"
          ]
        }
      ]
    },
    {
      "cell_type": "code",
      "execution_count": null,
      "metadata": {
        "id": "wF6IEK5Vm0uK"
      },
      "outputs": [],
      "source": [
        "import requests\n",
        "import urllib3\n",
        "import pytesseract\n",
        "import json\n",
        "from bs4 import BeautifulSoup\n",
        "from io import BytesIO\n",
        "from PIL import Image\n",
        "import requests\n",
        "from requests.packages.urllib3.exceptions import InsecureRequestWarning"
      ]
    },
    {
      "cell_type": "code",
      "source": [
        "urllib3.disable_warnings(urllib3.exceptions.InsecureRequestWarning)"
      ],
      "metadata": {
        "id": "bZwaZO3hr90Y"
      },
      "execution_count": null,
      "outputs": []
    },
    {
      "cell_type": "code",
      "source": [
        "requests.packages.urllib3.disable_warnings(InsecureRequestWarning)"
      ],
      "metadata": {
        "id": "4WtbzY6bvwwG"
      },
      "execution_count": null,
      "outputs": []
    },
    {
      "cell_type": "code",
      "source": [
        "# Base URL\n",
        "url = \"https://eservices.tn.gov.in/eservicesnew/land/chittaCheckNewRural_en.html?lan=en\"\n"
      ],
      "metadata": {
        "id": "DXVyA47hnBNg"
      },
      "execution_count": null,
      "outputs": []
    },
    {
      "cell_type": "code",
      "source": [
        "\n",
        "headers = {\n",
        "    'authority': 'eservices.tn.gov.in',\n",
        "    'accept': '*/*',\n",
        "    'accept-language': 'en-US,en;q=0.9',\n",
        "    # 'content-length': '0',\n",
        "    'cookie': 'httpsonly; Path=/tmp; JSESSIONID=F53FC82545B8F91177CD1E8682CECCF0',\n",
        "    'dnt': '1',\n",
        "    'origin': 'https://eservices.tn.gov.in',\n",
        "    'referer': 'https://eservices.tn.gov.in/',\n",
        "    'sec-ch-ua': '\"Not.A/Brand\";v=\"8\", \"Chromium\";v=\"114\", \"Google Chrome\";v=\"114\"',\n",
        "    'sec-ch-ua-mobile': '?0',\n",
        "    'sec-ch-ua-platform': '\"Windows\"',\n",
        "    'sec-fetch-dest': 'empty',\n",
        "    'sec-fetch-mode': 'cors',\n",
        "    'sec-fetch-site': 'same-origin',\n",
        "    'user-agent': 'Mozilla/5.0 (Windows NT 10.0; Win64; x64) AppleWebKit/537.36 (KHTML, like Gecko) Chrome/114.0.0.0 Safari/537.36',\n",
        "}\n",
        "\n",
        "params = {\n",
        "    'page': 'ruralservice',\n",
        "    'ser': 'dist',\n",
        "    'lang': 'en',\n",
        "}\n",
        "\n",
        "responsedist = requests.post('https://eservices.tn.gov.in/eservicesnew/land/ajax.html', params=params, headers=headers, verify = False)\n",
        "\n",
        "#print(responsedist.text)\n",
        "#print(type(responsedist.text))"
      ],
      "metadata": {
        "id": "AOxmziRSzued"
      },
      "execution_count": null,
      "outputs": []
    },
    {
      "cell_type": "code",
      "source": [
        "json_response_dist = json.loads(responsedist.text)\n",
        "\n",
        "districts = json_response_dist['landrecords']['response']\n",
        "#print(json_response_dist)\n",
        "#print(type(json_response_dist))\n",
        "\n",
        "#print(len(json_response_dist['landrecords']['response']))"
      ],
      "metadata": {
        "colab": {
          "base_uri": "https://localhost:8080/"
        },
        "id": "uxGH2sM4OMwT",
        "outputId": "f780c24d-a3f0-4500-d401-67c042995860"
      },
      "execution_count": null,
      "outputs": [
        {
          "output_type": "stream",
          "name": "stdout",
          "text": [
            "{'landrecords': {'response': [{'name': '00', 'value': '--Select District--'}, {'name': 17, 'value': 'Ariyalur'}, {'name': 35, 'value': 'Chengalpattu'}, {'name': '02', 'value': 'Chennai'}, {'name': 12, 'value': 'Coimbatore'}, {'name': 18, 'value': 'Cuddalore'}, {'name': '05', 'value': 'Dharmapuri'}, {'name': 13, 'value': 'Dindigul'}, {'name': 10, 'value': 'Erode'}, {'name': 33, 'value': 'Kallakurichi'}, {'name': '03', 'value': 'Kancheepuram'}, {'name': 30, 'value': 'Kanniyakumari'}, {'name': 14, 'value': 'Karur'}, {'name': 31, 'value': 'Krishnagiri'}, {'name': 24, 'value': 'Madurai'}, {'name': 38, 'value': 'Mayiladuthurai'}, {'name': 19, 'value': 'Nagapattinam'}, {'name': '09', 'value': 'Namakkal'}, {'name': 16, 'value': 'Perambalur'}, {'name': 22, 'value': 'Pudukkottai'}, {'name': 27, 'value': 'Ramanathapuram'}, {'name': 37, 'value': 'Ranipet'}, {'name': '08', 'value': 'Salem'}, {'name': 23, 'value': 'Sivagangai'}, {'name': 34, 'value': 'Tenkasi'}, {'name': 21, 'value': 'Thanjavur'}, {'name': 25, 'value': 'Theni'}, {'name': 11, 'value': 'The Nilgiris'}, {'name': 20, 'value': 'Thiruvarur'}, {'name': 28, 'value': 'Thoothukkudi'}, {'name': 15, 'value': 'Tiruchirappalli'}, {'name': 29, 'value': 'Tirunelveli'}, {'name': 36, 'value': 'Tirupathur'}, {'name': 32, 'value': 'Tiruppur'}, {'name': '01', 'value': 'Tiruvallur'}, {'name': '06', 'value': 'Tiruvannamalai'}, {'name': '04', 'value': 'Vellore'}, {'name': '07', 'value': 'Viluppuram'}, {'name': 26, 'value': 'Virudhunagar'}]}}\n",
            "<class 'dict'>\n"
          ]
        }
      ]
    },
    {
      "cell_type": "code",
      "source": [
        "\n",
        "headers = {\n",
        "    'authority': 'eservices.tn.gov.in',\n",
        "    'accept': '*/*',\n",
        "    'accept-language': 'en-US,en;q=0.9',\n",
        "    # 'content-length': '0',\n",
        "    'cookie': 'httpsonly; Path=/tmp; JSESSIONID=A1E4EA7E542F2C281D04892C0BA04599',\n",
        "    'dnt': '1',\n",
        "    'origin': 'https://eservices.tn.gov.in',\n",
        "    'referer': 'https://eservices.tn.gov.in/',\n",
        "    'sec-ch-ua': '\"Not.A/Brand\";v=\"8\", \"Chromium\";v=\"114\", \"Google Chrome\";v=\"114\"',\n",
        "    'sec-ch-ua-mobile': '?0',\n",
        "    'sec-ch-ua-platform': '\"Windows\"',\n",
        "    'sec-fetch-dest': 'empty',\n",
        "    'sec-fetch-mode': 'cors',\n",
        "    'sec-fetch-site': 'same-origin',\n",
        "    'user-agent': 'Mozilla/5.0 (Windows NT 10.0; Win64; x64) AppleWebKit/537.36 (KHTML, like Gecko) Chrome/114.0.0.0 Safari/537.36',\n",
        "}\n",
        "for district in districts:\n",
        "  params = {\n",
        "      'page': 'ruralservice',\n",
        "      'ser': 'tlk',\n",
        "      'distcode': f\"{str(district['name'])}\",\n",
        "      'lang': 'en',\n",
        "      }\n",
        "  responsetlk = requests.post('https://eservices.tn.gov.in/eservicesnew/land/ajax.html', params=params, headers=headers, verify= False)\n",
        " #print(district['value'], responsetlk.text)\n"
      ],
      "metadata": {
        "id": "ULi5PZiaI91Y"
      },
      "execution_count": null,
      "outputs": []
    },
    {
      "cell_type": "code",
      "source": [
        "for district in districts:\n",
        "  params = {\n",
        "      'page': 'ruralservice',\n",
        "      'ser': 'tlk',\n",
        "      'distcode': f\"{str(district['name'])}\",\n",
        "      'lang': 'en',\n",
        "      }\n",
        "  responsetlk = requests.post('https://eservices.tn.gov.in/eservicesnew/land/ajax.html', params=params, headers=headers, verify= False)\n",
        "  #print(district['value'], responsetlk.text)\n",
        "  json_response_taluk = json.loads(responsetlk.text)\n",
        "  taluks = json_response_taluk['landrecords']['response']\n",
        "  #print(taluks)\n",
        "  #print(district['value'], json_response_taluk)"
      ],
      "metadata": {
        "id": "kqc8DPrZXOyc"
      },
      "execution_count": null,
      "outputs": []
    },
    {
      "cell_type": "code",
      "source": [
        "\n",
        "headers = {\n",
        "    'authority': 'eservices.tn.gov.in',\n",
        "    'accept': '*/*',\n",
        "    'accept-language': 'en-US,en;q=0.9',\n",
        "    # 'content-length': '0',\n",
        "    'cookie': 'httpsonly; Path=/tmp; JSESSIONID=A1E4EA7E542F2C281D04892C0BA04599',\n",
        "    'dnt': '1',\n",
        "    'origin': 'https://eservices.tn.gov.in',\n",
        "    'referer': 'https://eservices.tn.gov.in/',\n",
        "    'sec-ch-ua': '\"Not.A/Brand\";v=\"8\", \"Chromium\";v=\"114\", \"Google Chrome\";v=\"114\"',\n",
        "    'sec-ch-ua-mobile': '?0',\n",
        "    'sec-ch-ua-platform': '\"Windows\"',\n",
        "    'sec-fetch-dest': 'empty',\n",
        "    'sec-fetch-mode': 'cors',\n",
        "    'sec-fetch-site': 'same-origin',\n",
        "    'user-agent': 'Mozilla/5.0 (Windows NT 10.0; Win64; x64) AppleWebKit/537.36 (KHTML, like Gecko) Chrome/114.0.0.0 Safari/537.36',\n",
        "}\n",
        "for district in districts:\n",
        "    params = {\n",
        "        'page': 'ruralservice',\n",
        "        'ser': 'tlk',\n",
        "        'distcode': f\"{str(district['name'])}\",\n",
        "        'lang': 'en',\n",
        "        }\n",
        "    responsetlk = requests.post('https://eservices.tn.gov.in/eservicesnew/land/ajax.html', params=params, headers=headers, verify= False)\n",
        "    #print(district['value'], responsetlk.text)\n",
        "    json_response_taluk = json.loads(responsetlk.text)\n",
        "    taluks = (json_response_taluk['landrecords']['response'])\n",
        "    if(type(taluks) == dict):\n",
        "        taluks = [taluks];\n",
        "    #print(taluks)\n",
        "    for taluk in taluks:\n",
        "        #print(taluk)\n",
        "        params = {\n",
        "            'page': 'ruralservice',\n",
        "            'ser': 'vill',\n",
        "            'distcode': f\"{str(district['name'])}\",\n",
        "            'talukcode': f\"{str(taluk['name'])}\",\n",
        "            'lang': 'en',\n",
        "        }\n",
        "\n",
        "        responsevil = requests.post('https://eservices.tn.gov.in/eservicesnew/land/ajax.html', params=params, headers=headers, verify = False)\n",
        "        json_response_village = json.loads(responsevil.text)\n",
        "        villages = json_response_village['landrecords']['response']\n",
        "        #print(district['value'],district['name'],taluk['value'],taluk['name'], responsevil.text)"
      ],
      "metadata": {
        "id": "fypKX0PHSrWO"
      },
      "execution_count": null,
      "outputs": []
    },
    {
      "cell_type": "code",
      "source": [
        "# Specify the path to the Tesseract executable\n",
        "pytesseract.pytesseract.tesseract_cmd = '/usr/bin/tesseract'\n"
      ],
      "metadata": {
        "id": "BKXSi-8GbMTx"
      },
      "execution_count": null,
      "outputs": []
    },
    {
      "cell_type": "code",
      "source": [
        "def solve_captcha(\n",
        "        base_width: int = 100,\n",
        "        config: str = '--psm 7 -c tessedit_char_whitelist=0123456789',\n",
        "        captcha_len_req: int = 6):\n",
        "    captcha_retry_counter = 0\n",
        "    with requests.Session() as session:\n",
        "        # Disable SSL verification\n",
        "        session.verify = False\n",
        "\n",
        "        # Make the initial request to the home page\n",
        "        home_url = 'https://eservices.tn.gov.in/eservicesnew/land/chittaCheckNewRural_en.html?lan=en'\n",
        "        home_response = session.get(home_url)\n",
        "\n",
        "        while captcha_retry_counter < 10:\n",
        "            try:\n",
        "                captcha_retry_counter += 1\n",
        "\n",
        "                # Extract necessary data from the previous response\n",
        "                district_id = 'district_id'  # Replace with the actual value from the previous response\n",
        "                sro_id = 'sro_id'  # Replace with the actual value from the previous response\n",
        "                village_id = 'village_id'  # Replace with the actual value from the previous response\n",
        "\n",
        "                # Make the subsequent requests in order\n",
        "                district_list_url = f'https://eservices.tn.gov.in/eservicesnew/getDistrictList?stateCode={district_id}'\n",
        "                district_list_response = session.get(district_list_url)\n",
        "\n",
        "                sro_list_url = f'https://eservices.tn.gov.in/eservicesnew/getSROList?stateCode={district_id}&districtCode={sro_id}'\n",
        "                sro_list_response = session.get(sro_list_url)\n",
        "\n",
        "                village_list_url = f'https://eservices.tn.gov.in/eservicesnew/getVillageList?stateCode={district_id}&districtCode={sro_id}&sroCode={village_id}'\n",
        "                village_list_response = session.get(village_list_url)\n",
        "\n",
        "                captcha_url = 'https://eservices.tn.gov.in/eservicesnew/land/simpleCaptcha.html'\n",
        "                captcha_response = session.get(captcha_url)\n",
        "\n",
        "                # Process the captcha image\n",
        "                img = Image.open(BytesIO(captcha_response.content)).convert('RGB')\n",
        "                wpercent = (base_width / float(img.size[0]))\n",
        "                hsize = int((float(img.size[1]) * float(wpercent)))\n",
        "                resized_img = img.resize((base_width, hsize), Image.NEAREST)\n",
        "                captcha_decoded = pytesseract.image_to_string(resized_img, config=config).strip()\n",
        "\n",
        "            except Exception:\n",
        "                captcha_decoded = \"\"\n",
        "\n",
        "            if captcha_decoded and len(captcha_decoded) == captcha_len_req:\n",
        "                return captcha_decoded\n",
        "\n",
        "    return \"\"\n"
      ],
      "metadata": {
        "id": "ZdlP_RPrMeEw"
      },
      "execution_count": null,
      "outputs": []
    },
    {
      "cell_type": "code",
      "source": [
        "\n",
        "captcha_result = solve_captcha()\n",
        "print(\"Solved Captcha:\", captcha_result)\n"
      ],
      "metadata": {
        "colab": {
          "base_uri": "https://localhost:8080/"
        },
        "id": "97l5e5YgMkcM",
        "outputId": "5fd008f3-f23b-4f34-8392-c446fa227265"
      },
      "execution_count": null,
      "outputs": [
        {
          "output_type": "stream",
          "name": "stdout",
          "text": [
            "Solved Captcha: \n"
          ]
        }
      ]
    }
  ]
}